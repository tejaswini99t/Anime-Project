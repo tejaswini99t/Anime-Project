{
 "cells": [
  {
   "cell_type": "code",
   "execution_count": 1,
   "id": "410b59e1",
   "metadata": {},
   "outputs": [],
   "source": [
    "import pandas as pd\n",
    "from sklearn.preprocessing import OneHotEncoder, MinMaxScaler\n",
    "from sklearn.feature_extraction.text import TfidfVectorizer\n",
    "from sklearn.metrics.pairwise import cosine_similarity\n",
    "from sklearn.compose import ColumnTransformer\n",
    "from sklearn.pipeline import Pipeline"
   ]
  },
  {
   "cell_type": "code",
   "execution_count": 2,
   "id": "55955fd6",
   "metadata": {},
   "outputs": [],
   "source": [
    "df = pd.read_csv('/Users/tejaswinitippanaboina/Desktop/Anime project/anime 2 data.csv')"
   ]
  },
  {
   "cell_type": "code",
   "execution_count": 3,
   "id": "0c9405ca",
   "metadata": {},
   "outputs": [],
   "source": [
    "numerical_columns = ['eps', 'startYr', 'finishYr', 'rating', 'votes']\n",
    "for column in numerical_columns:\n",
    "    df[column].fillna(df[column].median(), inplace=True)\n",
    "\n",
    "# For categorical columns with a relatively small number of NaNs, fill NaNs with the mode\n",
    "categorical_columns = ['mediaType']\n",
    "for column in categorical_columns:\n",
    "    df[column].fillna(df[column].mode()[0], inplace=True)\n",
    "\n",
    "# For text columns, fill NaNs with an empty string\n",
    "text_columns = ['description', 'sznOfRelease']  # 'sznOfRelease' might have a textual value like \"Spring\"\n",
    "for column in text_columns:\n",
    "    df[column].fillna('', inplace=True)\n",
    "    \n",
    "    # Impute 'duration' with the median duration\n",
    "df['duration'].fillna(df['duration'].median(), inplace=True)\n",
    "\n",
    "# For 'watched', let's assume it's a numeric column. We will fill NaNs with the median as well.\n",
    "df['watched'].fillna(df['watched'].median(), inplace=True)\n"
   ]
  },
  {
   "cell_type": "code",
   "execution_count": 4,
   "id": "4fd5b133",
   "metadata": {},
   "outputs": [],
   "source": [
    "df['combined_features'] = df['description'] + ' ' + df['tags'] + ' ' + df['mediaType'] + ' ' + df['studios']\n"
   ]
  },
  {
   "cell_type": "code",
   "execution_count": 5,
   "id": "3cc3ed23",
   "metadata": {},
   "outputs": [],
   "source": [
    "tfidf = TfidfVectorizer(stop_words='english')\n",
    "\n",
    "# Fit and transform the vectorizer on the 'combined_features' column\n",
    "tfidf_matrix = tfidf.fit_transform(df['combined_features'])"
   ]
  },
  {
   "cell_type": "code",
   "execution_count": 6,
   "id": "9f512944",
   "metadata": {},
   "outputs": [],
   "source": [
    "cosine_sim = cosine_similarity(tfidf_matrix, tfidf_matrix)"
   ]
  },
  {
   "cell_type": "code",
   "execution_count": 7,
   "id": "884d6bdf",
   "metadata": {},
   "outputs": [],
   "source": [
    "indices = pd.Series(df.index, index=df['title']).drop_duplicates()"
   ]
  },
  {
   "cell_type": "code",
   "execution_count": 11,
   "id": "6603649b",
   "metadata": {},
   "outputs": [
    {
     "name": "stdout",
     "output_type": "stream",
     "text": [
      "561                                      Naruto Shippuden\n",
      "968                              Boruto: Naruto the Movie\n",
      "4965    Naruto Special 2: Battle at Hidden Falls. I am...\n",
      "3533                      Boruto: Naruto Next Generations\n",
      "5226                       Naruto: Konoha Sports Festival\n",
      "1718             Naruto Shippuden Movie 4: The Lost Tower\n",
      "2081                      Naruto Shippuden Movie 2: Bonds\n",
      "1856           Naruto Shippuden Movie 3: The Will of Fire\n",
      "3890    Naruto Movie 3: Guardians of the Crescent Moon...\n",
      "814               Naruto Shippuden Movie 6: Road to Ninja\n",
      "Name: title, dtype: object\n"
     ]
    }
   ],
   "source": [
    "def get_recommendations(title, cosine_sim=cosine_sim, df=df, indices=indices):\n",
    "    # Get the index of the anime that matches the title\n",
    "    idx = indices[title]\n",
    "\n",
    "    # Get the pairwise similarity scores of all anime with that anime\n",
    "    sim_scores = list(enumerate(cosine_sim[idx]))\n",
    "\n",
    "    # Sort the anime based on the similarity scores\n",
    "    sim_scores = sorted(sim_scores, key=lambda x: x[1], reverse=True)\n",
    "\n",
    "    # Get the scores of the 10 most similar anime\n",
    "    sim_scores = sim_scores[1:11]\n",
    "\n",
    "    # Get the anime indices\n",
    "    anime_indices = [i[0] for i in sim_scores]\n",
    "\n",
    "    # Return the top 10 most similar anime\n",
    "    return df['title'].iloc[anime_indices]\n",
    "\n",
    "# Example usage to get recommendations for Naruto\n",
    "recommended_anime = get_recommendations('Naruto')\n",
    "print(recommended_anime)"
   ]
  },
  {
   "cell_type": "code",
   "execution_count": null,
   "id": "5d68409b",
   "metadata": {},
   "outputs": [],
   "source": []
  }
 ],
 "metadata": {
  "kernelspec": {
   "display_name": "Python 3 (ipykernel)",
   "language": "python",
   "name": "python3"
  },
  "language_info": {
   "codemirror_mode": {
    "name": "ipython",
    "version": 3
   },
   "file_extension": ".py",
   "mimetype": "text/x-python",
   "name": "python",
   "nbconvert_exporter": "python",
   "pygments_lexer": "ipython3",
   "version": "3.9.13"
  }
 },
 "nbformat": 4,
 "nbformat_minor": 5
}
