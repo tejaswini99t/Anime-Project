{
 "cells": [
  {
   "cell_type": "code",
   "execution_count": 1,
   "id": "4bd41d08",
   "metadata": {},
   "outputs": [],
   "source": [
    "import pandas as pd\n",
    "from sklearn.feature_extraction.text import TfidfVectorizer\n",
    "from sklearn.metrics.pairwise import cosine_similarity\n"
   ]
  },
  {
   "cell_type": "code",
   "execution_count": 2,
   "id": "caf3eb81",
   "metadata": {},
   "outputs": [],
   "source": [
    "df = pd.read_csv('/Users/tejaswinitippanaboina/Desktop/Anime project/anime 2 data.csv')"
   ]
  },
  {
   "cell_type": "code",
   "execution_count": 3,
   "id": "31aaeb34",
   "metadata": {},
   "outputs": [],
   "source": [
    "# Ensure that the 'tags' column is string type\n",
    "df['tags'] = df['tags'].fillna('')  # Fill NaNs with empty string\n",
    "df['tags'] = df['tags'].apply(lambda x: ' '.join(x) if isinstance(x, list) else x)"
   ]
  },
  {
   "cell_type": "code",
   "execution_count": 4,
   "id": "a190288a",
   "metadata": {},
   "outputs": [],
   "source": [
    "# Initialize a TF-IDF Vectorizer\n",
    "tfidf_vectorizer = TfidfVectorizer(stop_words='english')\n",
    "\n",
    "# Construct the required TF-IDF matrix by fitting and transforming the data\n",
    "tfidf_matrix = tfidf_vectorizer.fit_transform(df['tags'])"
   ]
  },
  {
   "cell_type": "code",
   "execution_count": 14,
   "id": "68573f66",
   "metadata": {},
   "outputs": [],
   "source": [
    "# Function to get recommendations based on a tag\n",
    "def get_recommendations_based_on_tag(tag, df, tfidf_vectorizer, tfidf_matrix):\n",
    "    # Transform the tag to match the TF-IDF matrix format\n",
    "    tag_vector = tfidf_vectorizer.transform([tag])\n",
    "    \n",
    "    # Calculate cosine similarity between the tag vector and the TF-IDF matrix\n",
    "    cosine_sim = cosine_similarity(tag_vector, tfidf_matrix).flatten()\n",
    "    \n",
    "    # Rank anime based on the similarity scores\n",
    "    sim_scores = list(enumerate(cosine_sim))\n",
    "\n",
    "    # Sort the anime based on the similarity scores in descending order\n",
    "    sim_scores = sorted(sim_scores, key=lambda x: x[1], reverse=True)\n",
    "\n",
    "    # Get the indices of the 10 most similar anime\n",
    "    anime_indices = [i[0] for i in sim_scores[:10]]\n",
    "\n",
    "    # Return the top 10 most similar anime\n",
    "    return df['title'].iloc[anime_indices]\n",
    "\n"
   ]
  },
  {
   "cell_type": "code",
   "execution_count": 17,
   "id": "84a61650",
   "metadata": {},
   "outputs": [
    {
     "name": "stdout",
     "output_type": "stream",
     "text": [
      "1407               HoneyWorks: Tokyo Autumn Session\n",
      "4008        HoneyWorks: Kokuhaku Shitemo Ii desu ka\n",
      "4441           Inori Minase: Heroine Ikusei Keikaku\n",
      "5695                           HoneyWorks: Hae Love\n",
      "6576                Akari Nanawo & Sou: Turing Love\n",
      "6605                      Supercell: Utakata Hanabi\n",
      "6654    Sekai no Owari x EPIK HIGH: Sleeping Beauty\n",
      "8195                                 Kano: nameless\n",
      "8640                                     Kano: Hope\n",
      "8821                                   Memories Off\n",
      "Name: title, dtype: object\n"
     ]
    }
   ],
   "source": [
    "# Example usage to get recommendations based on the 'action' tag\n",
    "recommended_anime = get_recommendations_based_on_tag('romance', df, tfidf_vectorizer, tfidf_matrix)\n",
    "print(recommended_anime)"
   ]
  },
  {
   "cell_type": "code",
   "execution_count": null,
   "id": "07cf35cc",
   "metadata": {},
   "outputs": [],
   "source": []
  }
 ],
 "metadata": {
  "kernelspec": {
   "display_name": "Python 3 (ipykernel)",
   "language": "python",
   "name": "python3"
  },
  "language_info": {
   "codemirror_mode": {
    "name": "ipython",
    "version": 3
   },
   "file_extension": ".py",
   "mimetype": "text/x-python",
   "name": "python",
   "nbconvert_exporter": "python",
   "pygments_lexer": "ipython3",
   "version": "3.9.13"
  }
 },
 "nbformat": 4,
 "nbformat_minor": 5
}
